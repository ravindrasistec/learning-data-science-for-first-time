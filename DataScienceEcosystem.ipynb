{
 "cells": [
  {
   "cell_type": "markdown",
   "id": "7f38505e-7843-426b-b86c-116e6b7f632f",
   "metadata": {},
   "source": [
    "#Exercise 2: Create markdown cell with title of the notebook\n",
    "\n",
    "# Data Science Tools and Ecosystem"
   ]
  },
  {
   "cell_type": "markdown",
   "id": "ecdd89eb-c427-432d-a40c-6bdf936dca95",
   "metadata": {},
   "source": [
    "#Exercise 3 - Create a markdown cell for an introduction\n",
    "## In this notebook, Data Science Tools and Ecosystem are summarized."
   ]
  },
  {
   "cell_type": "markdown",
   "id": "94ce02d1-827e-4afa-9f5b-3b36fdbc8527",
   "metadata": {},
   "source": [
    "#Exercise 4 - Create a markdown cell to list data science languages\n",
    "\n",
    "# Some of the popular languages that Data Scientists use are:\n",
    "\n",
    "## 1. Python\n",
    "## 2. R\n",
    "## 3. Java"
   ]
  },
  {
   "cell_type": "markdown",
   "id": "2f733e5f-8614-4850-9648-d4095aa838b6",
   "metadata": {},
   "source": [
    "#Exercise 5 - Create a markdown cell to list data science libraries\n",
    "\n",
    "# Some of the commonly used libraries used by Data Scientists include:\n",
    "## 1. Pandas\n",
    "## 2. Numpy\n",
    "## 3. Matplotlib\n",
    "## 4. Seaborn\n",
    "## 5. ggplot\n"
   ]
  },
  {
   "cell_type": "markdown",
   "id": "5acbdd56-6ae2-4d5d-9865-c5b7d4a7d731",
   "metadata": {},
   "source": [
    "#Exercise 6 - Create a markdown cell with a table of Data Science tools\n",
    "\n",
    "| Data Science Tools |\n",
    "|---|\n",
    "|Pandas|\n",
    "|Numpy|\n",
    "|Matplotlib|\n",
    "|Seaborn|\n",
    "|ggplot|"
   ]
  },
  {
   "cell_type": "markdown",
   "id": "4280c29f-a1c8-4728-8c55-dd2a2f73a972",
   "metadata": {},
   "source": [
    "#Exercise 7 - Create a markdown cell introducing arithmetic expression examples\n",
    "\n",
    "### Below are a few examples of evaluating arithmetic expressions in Python"
   ]
  },
  {
   "cell_type": "code",
   "execution_count": 19,
   "id": "0311842a-9fb4-48e6-a878-7b6e54adc46d",
   "metadata": {},
   "outputs": [
    {
     "data": {
      "text/plain": [
       "17"
      ]
     },
     "execution_count": 19,
     "metadata": {},
     "output_type": "execute_result"
    }
   ],
   "source": [
    "#Exercise 8 - Create a code cell to multiply and add numbers\n",
    "\n",
    "(3*4)+5"
   ]
  },
  {
   "cell_type": "code",
   "execution_count": 44,
   "id": "b728ab56-6020-424b-852e-1e0191507afa",
   "metadata": {},
   "outputs": [
    {
     "data": {
      "text/plain": [
       "3.3333333333333335"
      ]
     },
     "execution_count": 44,
     "metadata": {},
     "output_type": "execute_result"
    }
   ],
   "source": [
    "#Exercise 9 - Create a code cell to convert minutes to hours\n",
    "\n",
    "#This will convert 200 minutes to hours by diving by 60.\n",
    "\n",
    "200/60\n",
    "\n"
   ]
  },
  {
   "cell_type": "markdown",
   "id": "032910c0-9aa6-4072-b57b-5bb98938d374",
   "metadata": {},
   "source": [
    "#Exercise 10 - Insert a markdown cell to list Objectives\n",
    "\n",
    "# Objectives: List of popular prorgramming languages for data science\n",
    "\n",
    "## 1. Python\n",
    "## 2. R\n",
    "## 3. SQL Qyerry\n",
    "## 4. DAX Query for visulaization"
   ]
  },
  {
   "cell_type": "markdown",
   "id": "82a665c0-e8e4-4360-8a7a-12cdbf7266f7",
   "metadata": {},
   "source": [
    "#Exercise 11 - Create a markdown cell to indicate the Author's name\n",
    "\n",
    "## Author\n",
    "## Ravindra Kumar"
   ]
  },
  {
   "cell_type": "code",
   "execution_count": null,
   "id": "0a9bbeaf-a66b-4eba-a782-85c52f9c7c80",
   "metadata": {},
   "outputs": [],
   "source": []
  }
 ],
 "metadata": {
  "kernelspec": {
   "display_name": "Python 3 (ipykernel)",
   "language": "python",
   "name": "python3"
  },
  "language_info": {
   "codemirror_mode": {
    "name": "ipython",
    "version": 3
   },
   "file_extension": ".py",
   "mimetype": "text/x-python",
   "name": "python",
   "nbconvert_exporter": "python",
   "pygments_lexer": "ipython3",
   "version": "3.12.4"
  }
 },
 "nbformat": 4,
 "nbformat_minor": 5
}
